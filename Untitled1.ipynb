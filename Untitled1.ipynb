{
 "cells": [
  {
   "cell_type": "code",
   "execution_count": null,
   "metadata": {},
   "outputs": [],
   "source": [
    "from selenium import webdriver\n",
    "import time\n",
    "from bs4 import BeautifulSoup\n",
    "import urllib.request\n",
    "import os"
   ]
  },
  {
   "cell_type": "code",
   "execution_count": 150,
   "metadata": {},
   "outputs": [
    {
     "ename": "NameError",
     "evalue": "name 'webdriver' is not defined",
     "output_type": "error",
     "traceback": [
      "\u001b[0;31m---------------------------------------------------------------------------\u001b[0m",
      "\u001b[0;31mNameError\u001b[0m                                 Traceback (most recent call last)",
      "\u001b[0;32m<ipython-input-150-8093bbd8011f>\u001b[0m in \u001b[0;36m<module>\u001b[0;34m\u001b[0m\n\u001b[0;32m----> 1\u001b[0;31m \u001b[0mdriver\u001b[0m \u001b[0;34m=\u001b[0m \u001b[0mwebdriver\u001b[0m\u001b[0;34m.\u001b[0m\u001b[0mChrome\u001b[0m\u001b[0;34m(\u001b[0m\u001b[0;34m'/Users/mac/projects/ChromeWebDriver/chromedriver'\u001b[0m\u001b[0;34m)\u001b[0m\u001b[0;34m\u001b[0m\u001b[0m\n\u001b[0m\u001b[1;32m      2\u001b[0m \u001b[0;31m# nba 기사 url 접근\u001b[0m\u001b[0;34m\u001b[0m\u001b[0;34m\u001b[0m\u001b[0m\n\u001b[1;32m      3\u001b[0m \u001b[0mdriver\u001b[0m\u001b[0;34m.\u001b[0m\u001b[0mget\u001b[0m\u001b[0;34m(\u001b[0m\u001b[0;34m'https://sports.news.naver.com/basketball/news/index.nhn?isphoto=N'\u001b[0m\u001b[0;34m)\u001b[0m\u001b[0;34m\u001b[0m\u001b[0m\n",
      "\u001b[0;31mNameError\u001b[0m: name 'webdriver' is not defined"
     ]
    }
   ],
   "source": [
    "driver = webdriver.Chrome('/Users/mac/projects/ChromeWebDriver/chromedriver')\n",
    "# nba 기사 url 접근\n",
    "driver.get('https://sports.news.naver.com/basketball/news/index.nhn?isphoto=N')"
   ]
  },
  {
   "cell_type": "code",
   "execution_count": 191,
   "metadata": {},
   "outputs": [],
   "source": [
    "list_variable = []"
   ]
  },
  {
   "cell_type": "code",
   "execution_count": 158,
   "metadata": {},
   "outputs": [
    {
     "name": "stdout",
     "output_type": "stream",
     "text": [
      "100\n",
      "200\n",
      "1\n",
      "2\n",
      "3\n",
      "4\n",
      "5\n",
      "100000\n",
      "-1\n",
      "최대값은 100000, 최소값은 1\n",
      "['100', '200', '1', '2', '3', '4', '5', '100000']\n"
     ]
    }
   ],
   "source": [
    "while True:\n",
    "    data = input()\n",
    "    if data == '-1':\n",
    "        print('최대값은 {}, 최소값은 {}'.format(max_int, min_int))\n",
    "        print(list_variable)\n",
    "        break\n",
    "\n",
    "    list_variable.append(data)\n",
    "    max_int = int(list_variable[0])\n",
    "    min_int = int(list_variable[0])\n",
    "    for i in range(len(list_variable)):\n",
    "        if int(list_variable[i]) > int(max_int):\n",
    "            max_int = int(list_variable[i])\n",
    "        if int(list_variable[i]) < int(min_int):\n",
    "            min_int = int(list_variable[i])"
   ]
  },
  {
   "cell_type": "code",
   "execution_count": 192,
   "metadata": {},
   "outputs": [],
   "source": [
    "def looking_int():\n",
    "    variable_list = []\n",
    "    while True:\n",
    "        data = int(input())\n",
    "        if data == int(-1):\n",
    "            print('최대값은 {}, 최소값은 {}'.format(max_int, min_int))\n",
    "            print(list_variable)\n",
    "            print('')\n",
    "            print('정렬된 리스트는')\n",
    "#             sort\n",
    "            print(list_variable)\n",
    "            break\n",
    "\n",
    "        list_variable.append(data)\n",
    "        max_int = list_variable[0]\n",
    "        min_int = list_variable[0]\n",
    "        for i in range(len(list_variable)):\n",
    "            if list_variable[i] > max_int:\n",
    "                max_int = int(list_variable[i])\n",
    "            if list_variable[i] < min_int:\n",
    "                min_int = int(list_variable[i])"
   ]
  },
  {
   "cell_type": "code",
   "execution_count": 193,
   "metadata": {},
   "outputs": [
    {
     "name": "stdout",
     "output_type": "stream",
     "text": [
      "1231232\n",
      "41\n",
      "2\n",
      "3\n",
      "4\n",
      "5\n",
      "0\n",
      "-1\n",
      "최대값은 1231232, 최소값은 0\n",
      "[1231232, 41, 2, 3, 4, 5, 0]\n",
      "\n",
      "정렬된 리스트는\n",
      "[1231232, 41, 2, 3, 4, 5, 0]\n"
     ]
    }
   ],
   "source": [
    "looking_int()"
   ]
  },
  {
   "cell_type": "code",
   "execution_count": 209,
   "metadata": {},
   "outputs": [],
   "source": [
    "lists = [213,412,123,123,14,5,1,2,3,55,123132123]"
   ]
  },
  {
   "cell_type": "code",
   "execution_count": 210,
   "metadata": {},
   "outputs": [],
   "source": [
    "def list_sort(s):\n",
    "    for i in range(len(s)):\n",
    "        if i==0:\n",
    "            pass\n",
    "        if i >= 1:\n",
    "            if int(s[i-1]) > int(s[i]):\n",
    "                bigger = s[i-1]\n",
    "                s[i-1] = s[i]\n",
    "                s[i] = bigger\n",
    "        print(s[i])"
   ]
  },
  {
   "cell_type": "code",
   "execution_count": 216,
   "metadata": {},
   "outputs": [
    {
     "name": "stdout",
     "output_type": "stream",
     "text": [
      "5\n",
      "5\n",
      "5\n",
      "5\n",
      "14\n",
      "55\n",
      "123\n",
      "123\n",
      "213\n",
      "412\n",
      "123132123\n"
     ]
    }
   ],
   "source": [
    "list_sort(lists)"
   ]
  },
  {
   "cell_type": "code",
   "execution_count": null,
   "metadata": {},
   "outputs": [],
   "source": []
  }
 ],
 "metadata": {
  "kernelspec": {
   "display_name": "Python 3",
   "language": "python",
   "name": "python3"
  },
  "language_info": {
   "codemirror_mode": {
    "name": "ipython",
    "version": 3
   },
   "file_extension": ".py",
   "mimetype": "text/x-python",
   "name": "python",
   "nbconvert_exporter": "python",
   "pygments_lexer": "ipython3",
   "version": "3.6.6"
  }
 },
 "nbformat": 4,
 "nbformat_minor": 2
}
