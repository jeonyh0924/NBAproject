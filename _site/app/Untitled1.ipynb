{
 "cells": [
  {
   "cell_type": "code",
   "execution_count": 2,
   "metadata": {},
   "outputs": [
    {
     "name": "stdout",
     "output_type": "stream",
     "text": [
      "locals in outer : a = 100 , b = 3\n"
     ]
    }
   ],
   "source": [
    "def outer():\n",
    "    a = 2 \n",
    "    b = 3\n",
    "    \n",
    "    def inner():\n",
    "        nonlocal a\n",
    "        a = 100\n",
    "        \n",
    "    inner()\n",
    "    \n",
    "    print(\"locals in outer : a = {} , b = {}\".format(a,b))\n",
    "    \n",
    "if __name__ == \"__main__\":\n",
    "    outer()"
   ]
  },
  {
   "cell_type": "code",
   "execution_count": null,
   "metadata": {},
   "outputs": [],
   "source": [
    "void change_value(int *x, int value)\n",
    "{\n",
    "    *x = value;\n",
    "    cout << \"x : \"<< *x <<\" in change_value\" << endl;\n",
    "}\n",
    "int main(void){\n",
    "    int x;\n",
    "    change_value(&x,20);\n",
    "    cout << \"x :\"\n",
    "}"
   ]
  }
 ],
 "metadata": {
  "kernelspec": {
   "display_name": "Python 3",
   "language": "python",
   "name": "python3"
  },
  "language_info": {
   "codemirror_mode": {
    "name": "ipython",
    "version": 3
   },
   "file_extension": ".py",
   "mimetype": "text/x-python",
   "name": "python",
   "nbconvert_exporter": "python",
   "pygments_lexer": "ipython3",
   "version": "3.6.6"
  }
 },
 "nbformat": 4,
 "nbformat_minor": 2
}
