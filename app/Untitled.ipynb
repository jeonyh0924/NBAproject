{
 "cells": [
  {
   "cell_type": "code",
   "execution_count": 230,
   "metadata": {},
   "outputs": [],
   "source": [
    "from selenium import webdriver\n",
    "import time\n",
    "from bs4 import BeautifulSoup\n",
    "import urllib\n",
    "import os\n",
    "\n",
    "\n",
    "driver = webdriver.Chrome('/Users/mac/projects/ChromeWebDriver/chromedriver')\n",
    "driver.implicitly_wait(3)\n",
    "driver.get('http://www.nba.com/teams/')\n",
    "time.sleep(1)"
   ]
  },
  {
   "cell_type": "code",
   "execution_count": 231,
   "metadata": {},
   "outputs": [],
   "source": [
    "team_url_list = driver.find_elements_by_xpath(\"//div/div/div[@class='team__list']/a\")"
   ]
  },
  {
   "cell_type": "code",
   "execution_count": 232,
   "metadata": {},
   "outputs": [],
   "source": [
    "team_name = [url.get_attribute(\"innerText\") for url in team_url_list]"
   ]
  },
  {
   "cell_type": "code",
   "execution_count": 233,
   "metadata": {},
   "outputs": [],
   "source": [
    "team_img_urls = driver.find_elements_by_xpath(\"//div/div/div[@class='team__list']/img\")"
   ]
  },
  {
   "cell_type": "code",
   "execution_count": 234,
   "metadata": {},
   "outputs": [],
   "source": [
    "team_img_url = [url.get_attribute(\"src\") for url in team_img_urls]"
   ]
  },
  {
   "cell_type": "markdown",
   "metadata": {},
   "source": [
    "### 팀 이미지 생성"
   ]
  },
  {
   "cell_type": "code",
   "execution_count": 219,
   "metadata": {},
   "outputs": [
    {
     "name": "stdout",
     "output_type": "stream",
     "text": [
      "exists  Atlanta Hawks\n",
      "exists  Boston Celtics\n",
      "exists  Brooklyn Nets\n",
      "exists  Charlotte Hornets\n",
      "exists  Chicago Bulls\n",
      "exists  Cleveland Cavaliers\n",
      "exists  Dallas Mavericks\n",
      "exists  Denver Nuggets\n",
      "exists  Detroit Pistons\n",
      "exists  Golden State Warriors\n",
      "exists  Houston Rockets\n",
      "exists  Indiana Pacers\n",
      "exists  LA Clippers\n",
      "exists  Los Angeles Lakers\n",
      "exists  Memphis Grizzlies\n",
      "exists  Miami Heat\n",
      "exists  Milwaukee Bucks\n",
      "exists  Minnesota Timberwolves\n",
      "exists  New Orleans Pelicans\n",
      "exists  New York Knicks\n",
      "exists  Oklahoma City Thunder\n",
      "exists  Orlando Magic\n",
      "exists  Philadelphia 76ers\n",
      "exists  Phoenix Suns\n",
      "exists  Portland Trail Blazers\n",
      "exists  Sacramento Kings\n",
      "exists  San Antonio Spurs\n",
      "exists  Toronto Raptors\n",
      "exists  Utah Jazz\n",
      "exists  Washington Wizards\n"
     ]
    }
   ],
   "source": [
    "for url,name in zip (team_img_url,team_name):\n",
    "    dirName = name\n",
    "    try:\n",
    "    # Create target Directory\n",
    "        os.mkdir(f'static/{dirName}')\n",
    "        print(\"Directory \" , dirName ,  \" Created \") \n",
    "    except FileExistsError:\n",
    "        print(\"already exists \",dirName)\n",
    "        pass\n",
    "    urllib.request.urlretrieve(url,f'static/{name}/{name}.svg')"
   ]
  },
  {
   "cell_type": "code",
   "execution_count": 205,
   "metadata": {},
   "outputs": [],
   "source": [
    "driver.get('http://www.nba.com/players/jaylen/adams/1629121')"
   ]
  },
  {
   "cell_type": "markdown",
   "metadata": {},
   "source": [
    "### 선수 이미지"
   ]
  },
  {
   "cell_type": "code",
   "execution_count": 235,
   "metadata": {},
   "outputs": [],
   "source": [
    "player_img_url_section = driver.find_elements_by_xpath('//*[@id=\"block-league-content\"]/player-detail/section[1]/header/section[1]/img')"
   ]
  },
  {
   "cell_type": "code",
   "execution_count": 236,
   "metadata": {},
   "outputs": [
    {
     "ename": "IndexError",
     "evalue": "list index out of range",
     "traceback": [
      "\u001b[0;31m---------------------------------------------------------------------------\u001b[0m",
      "\u001b[0;31mIndexError\u001b[0m                                Traceback (most recent call last)",
      "\u001b[0;32m<ipython-input-236-57450ca2c414>\u001b[0m in \u001b[0;36m<module>\u001b[0;34m\u001b[0m\n\u001b[0;32m----> 1\u001b[0;31m \u001b[0mplayer_img_src\u001b[0m \u001b[0;34m=\u001b[0m \u001b[0mplayer_img_url_section\u001b[0m\u001b[0;34m[\u001b[0m\u001b[0;36m0\u001b[0m\u001b[0;34m]\u001b[0m\u001b[0;34m.\u001b[0m\u001b[0mget_attribute\u001b[0m\u001b[0;34m(\u001b[0m\u001b[0;34m\"src\"\u001b[0m\u001b[0;34m)\u001b[0m\u001b[0;34m\u001b[0m\u001b[0m\n\u001b[0m",
      "\u001b[0;31mIndexError\u001b[0m: list index out of range"
     ],
     "output_type": "error"
    }
   ],
   "source": [
    "player_img_src = player_img_url_section[0].get_attribute(\"src\")"
   ]
  },
  {
   "cell_type": "code",
   "execution_count": null,
   "metadata": {},
   "outputs": [],
   "source": [
    "player_img_src"
   ]
  },
  {
   "cell_type": "markdown",
   "metadata": {},
   "source": [
    "### 선수 등번호"
   ]
  },
  {
   "cell_type": "code",
   "execution_count": 208,
   "metadata": {},
   "outputs": [],
   "source": [
    "player_back_number = driver.find_element_by_xpath('//*[@id=\"block-league-content\"]/player-detail/section[1]/header/section[2]/p/span[1]').get_attribute(\"innerText\")[1:]"
   ]
  },
  {
   "cell_type": "code",
   "execution_count": 209,
   "metadata": {},
   "outputs": [
    {
     "data": {
      "text/plain": [
       "'10'"
      ]
     },
     "execution_count": 209,
     "metadata": {},
     "output_type": "execute_result"
    }
   ],
   "source": [
    "player_back_number"
   ]
  },
  {
   "cell_type": "markdown",
   "metadata": {},
   "source": [
    "### 선수 포지션"
   ]
  },
  {
   "cell_type": "code",
   "execution_count": 210,
   "metadata": {},
   "outputs": [],
   "source": [
    "player_postion = driver.find_element_by_xpath('//*[@id=\"block-league-content\"]/player-detail/section[1]/header/section[2]/p/span[3]').get_attribute('innerText')"
   ]
  },
  {
   "cell_type": "code",
   "execution_count": 211,
   "metadata": {},
   "outputs": [
    {
     "data": {
      "text/plain": [
       "'G'"
      ]
     },
     "execution_count": 211,
     "metadata": {},
     "output_type": "execute_result"
    }
   ],
   "source": [
    "player_position"
   ]
  },
  {
   "cell_type": "markdown",
   "metadata": {},
   "source": [
    "### 선수 이름"
   ]
  },
  {
   "cell_type": "code",
   "execution_count": 212,
   "metadata": {},
   "outputs": [],
   "source": [
    "player_first_name = driver.find_element_by_xpath('//*[@id=\"block-league-content\"]/player-detail/section[1]/header/section[2]/section/p[1]').get_attribute('innerText')"
   ]
  },
  {
   "cell_type": "code",
   "execution_count": 213,
   "metadata": {},
   "outputs": [
    {
     "data": {
      "text/plain": [
       "'Jaylen'"
      ]
     },
     "execution_count": 213,
     "metadata": {},
     "output_type": "execute_result"
    }
   ],
   "source": [
    "player_first_name"
   ]
  },
  {
   "cell_type": "markdown",
   "metadata": {},
   "source": [
    "### 선수 성씨"
   ]
  },
  {
   "cell_type": "code",
   "execution_count": 214,
   "metadata": {},
   "outputs": [],
   "source": [
    "player_last_name = driver.find_element_by_xpath('//*[@id=\"block-league-content\"]/player-detail/section[1]/header/section[2]/section/p[2]').get_attribute('innerText')"
   ]
  },
  {
   "cell_type": "code",
   "execution_count": 215,
   "metadata": {},
   "outputs": [
    {
     "data": {
      "text/plain": [
       "'Adams'"
      ]
     },
     "execution_count": 215,
     "metadata": {},
     "output_type": "execute_result"
    }
   ],
   "source": [
    "player_last_name"
   ]
  },
  {
   "cell_type": "code",
   "execution_count": 216,
   "metadata": {},
   "outputs": [],
   "source": [
    "folder_path = player_back_number +\" \"+ player_first_name +\" \"+ player_last_name"
   ]
  },
  {
   "cell_type": "code",
   "execution_count": 217,
   "metadata": {
    "scrolled": true
   },
   "outputs": [
    {
     "data": {
      "text/plain": [
       "'10 Jaylen Adams'"
      ]
     },
     "execution_count": 217,
     "metadata": {},
     "output_type": "execute_result"
    }
   ],
   "source": [
    "folder_path"
   ]
  },
  {
   "cell_type": "code",
   "execution_count": 222,
   "metadata": {},
   "outputs": [],
   "source": [
    "for url,name in zip (team_img_url,team_name):\n",
    "    dirName = name\n",
    "    # 선수 이미지 저장\n",
    "    for path in folder_path:\n",
    "        try:\n",
    "        # Create target Directory\n",
    "            os.mkdir(f'static/{dirName}')\n",
    "            print(\"Directory \" , path ,  \" Created \") \n",
    "        except FileExistsError:\n",
    "            print(\"already exists \",dirName)\n",
    "            pass\n",
    "        urllib.request.urlretrieve(player_img_src,f'static/{name}/{path}.png')"
   ]
  },
  {
   "cell_type": "code",
   "execution_count": 228,
   "metadata": {},
   "outputs": [
    {
     "data": {
      "text/plain": [
       "['Atlanta Hawks',\n",
       " 'Boston Celtics',\n",
       " 'Brooklyn Nets',\n",
       " 'Charlotte Hornets',\n",
       " 'Chicago Bulls',\n",
       " 'Cleveland Cavaliers',\n",
       " 'Dallas Mavericks',\n",
       " 'Denver Nuggets',\n",
       " 'Detroit Pistons',\n",
       " 'Golden State Warriors',\n",
       " 'Houston Rockets',\n",
       " 'Indiana Pacers',\n",
       " 'LA Clippers',\n",
       " 'Los Angeles Lakers',\n",
       " 'Memphis Grizzlies',\n",
       " 'Miami Heat',\n",
       " 'Milwaukee Bucks',\n",
       " 'Minnesota Timberwolves',\n",
       " 'New Orleans Pelicans',\n",
       " 'New York Knicks',\n",
       " 'Oklahoma City Thunder',\n",
       " 'Orlando Magic',\n",
       " 'Philadelphia 76ers',\n",
       " 'Phoenix Suns',\n",
       " 'Portland Trail Blazers',\n",
       " 'Sacramento Kings',\n",
       " 'San Antonio Spurs',\n",
       " 'Toronto Raptors',\n",
       " 'Utah Jazz',\n",
       " 'Washington Wizards']"
      ]
     },
     "execution_count": 228,
     "metadata": {},
     "output_type": "execute_result"
    }
   ],
   "source": [
    "team_name"
   ]
  },
  {
   "cell_type": "code",
   "execution_count": 227,
   "metadata": {},
   "outputs": [
    {
     "name": "stdout",
     "output_type": "stream",
     "text": [
      "10 Jaylen Adams  Created \n"
     ]
    }
   ],
   "source": [
    "\n",
    "# 선수 이미지 로컬 저장\n",
    "try:\n",
    "    urllib.request.urlretrieve(player_img_src,f'static/{team_name}/{folder_path}.png')\n",
    "    print(folder_path,\" Created \")\n",
    "except FileExistError:\n",
    "    print(\"already exists \", folder_path)\n",
    "    pass\n"
   ]
  },
  {
   "cell_type": "markdown",
   "metadata": {},
   "source": [
    "### 선수 프로필"
   ]
  },
  {
   "cell_type": "code",
   "execution_count": 67,
   "metadata": {},
   "outputs": [],
   "source": [
    "player_height = driver.find_element_by_xpath('//*[@id=\"player-tabs-Info\"]/section/section[1]/section[1]/section[1]/p[3]').get_attribute('innerText')[2:]"
   ]
  },
  {
   "cell_type": "code",
   "execution_count": 68,
   "metadata": {},
   "outputs": [
    {
     "data": {
      "text/plain": [
       "'1.88m'"
      ]
     },
     "execution_count": 68,
     "metadata": {},
     "output_type": "execute_result"
    }
   ],
   "source": [
    "player_height"
   ]
  },
  {
   "cell_type": "code",
   "execution_count": 70,
   "metadata": {},
   "outputs": [],
   "source": [
    "player_weight = driver.find_element_by_xpath('//*[@id=\"player-tabs-Info\"]/section/section[1]/section[1]/section[2]/p[3]').get_attribute('innerText')[2:]"
   ]
  },
  {
   "cell_type": "code",
   "execution_count": 71,
   "metadata": {},
   "outputs": [
    {
     "data": {
      "text/plain": [
       "'86.2kg'"
      ]
     },
     "execution_count": 71,
     "metadata": {},
     "output_type": "execute_result"
    }
   ],
   "source": [
    "player_weight"
   ]
  },
  {
   "cell_type": "code",
   "execution_count": 72,
   "metadata": {},
   "outputs": [],
   "source": [
    "player_born = driver.find_element_by_xpath('//*[@id=\"player-tabs-Info\"]/section/section[1]/section[2]/ul/li[1]/span[2]').get_attribute('innerText')"
   ]
  },
  {
   "cell_type": "code",
   "execution_count": 73,
   "metadata": {},
   "outputs": [
    {
     "data": {
      "text/plain": [
       "'05/04/1996'"
      ]
     },
     "execution_count": 73,
     "metadata": {},
     "output_type": "execute_result"
    }
   ],
   "source": [
    "player_born"
   ]
  },
  {
   "cell_type": "code",
   "execution_count": 74,
   "metadata": {},
   "outputs": [],
   "source": [
    "player_hometown = driver.find_element_by_xpath('//*[@id=\"player-tabs-Info\"]/section/section[1]/section[2]/ul/li[3]/span[2]').get_attribute('innerText')"
   ]
  },
  {
   "cell_type": "code",
   "execution_count": 75,
   "metadata": {},
   "outputs": [
    {
     "data": {
      "text/plain": [
       "'St. Bonaventure'"
      ]
     },
     "execution_count": 75,
     "metadata": {},
     "output_type": "execute_result"
    }
   ],
   "source": [
    "player_hometown"
   ]
  },
  {
   "cell_type": "code",
   "execution_count": 76,
   "metadata": {},
   "outputs": [],
   "source": [
    "player_nba_debut = driver.find_element_by_xpath('//*[@id=\"player-tabs-Info\"]/section/section[1]/section[2]/ul/li[4]/span[2]').get_attribute('innerText')"
   ]
  },
  {
   "cell_type": "code",
   "execution_count": 77,
   "metadata": {},
   "outputs": [
    {
     "data": {
      "text/plain": [
       "'2018'"
      ]
     },
     "execution_count": 77,
     "metadata": {},
     "output_type": "execute_result"
    }
   ],
   "source": [
    "player_nba_debut"
   ]
  },
  {
   "cell_type": "markdown",
   "metadata": {},
   "source": [
    "### 선수 스탯"
   ]
  },
  {
   "cell_type": "code",
   "execution_count": 4,
   "metadata": {},
   "outputs": [],
   "source": [
    "season_stat_tbody= driver.find_elements_by_xpath('//*[@id=\"block-league-content\"]/player-detail/player-snapshot-career/section/table/tbody')"
   ]
  },
  {
   "cell_type": "code",
   "execution_count": 5,
   "metadata": {},
   "outputs": [
    {
     "name": "stdout",
     "output_type": "stream",
     "text": [
      "[<selenium.webdriver.remote.webelement.WebElement (session=\"0cb1e1adc52211a03177e185524686ba\", element=\"0.06564700457413708-2\")>]\n"
     ]
    }
   ],
   "source": [
    "print(season_stat_tbody)"
   ]
  },
  {
   "cell_type": "code",
   "execution_count": 6,
   "metadata": {},
   "outputs": [
    {
     "data": {
      "text/plain": [
       "[<selenium.webdriver.remote.webelement.WebElement (session=\"0cb1e1adc52211a03177e185524686ba\", element=\"0.06564700457413708-3\")>,\n",
       " <selenium.webdriver.remote.webelement.WebElement (session=\"0cb1e1adc52211a03177e185524686ba\", element=\"0.06564700457413708-4\")>]"
      ]
     },
     "execution_count": 6,
     "metadata": {},
     "output_type": "execute_result"
    }
   ],
   "source": [
    "season_stat_tbody[0].find_elements_by_tag_name('tr')"
   ]
  },
  {
   "cell_type": "code",
   "execution_count": 7,
   "metadata": {},
   "outputs": [],
   "source": [
    "tr_data = season_stat_tbody[0].find_elements_by_tag_name('tr')"
   ]
  },
  {
   "cell_type": "code",
   "execution_count": 8,
   "metadata": {},
   "outputs": [
    {
     "data": {
      "text/plain": [
       "[<selenium.webdriver.remote.webelement.WebElement (session=\"0cb1e1adc52211a03177e185524686ba\", element=\"0.06564700457413708-3\")>,\n",
       " <selenium.webdriver.remote.webelement.WebElement (session=\"0cb1e1adc52211a03177e185524686ba\", element=\"0.06564700457413708-4\")>]"
      ]
     },
     "execution_count": 8,
     "metadata": {},
     "output_type": "execute_result"
    }
   ],
   "source": [
    "tr_data"
   ]
  },
  {
   "cell_type": "code",
   "execution_count": 9,
   "metadata": {},
   "outputs": [
    {
     "data": {
      "text/plain": [
       "[<selenium.webdriver.remote.webelement.WebElement (session=\"0cb1e1adc52211a03177e185524686ba\", element=\"0.06564700457413708-5\")>,\n",
       " <selenium.webdriver.remote.webelement.WebElement (session=\"0cb1e1adc52211a03177e185524686ba\", element=\"0.06564700457413708-6\")>,\n",
       " <selenium.webdriver.remote.webelement.WebElement (session=\"0cb1e1adc52211a03177e185524686ba\", element=\"0.06564700457413708-7\")>,\n",
       " <selenium.webdriver.remote.webelement.WebElement (session=\"0cb1e1adc52211a03177e185524686ba\", element=\"0.06564700457413708-8\")>,\n",
       " <selenium.webdriver.remote.webelement.WebElement (session=\"0cb1e1adc52211a03177e185524686ba\", element=\"0.06564700457413708-9\")>,\n",
       " <selenium.webdriver.remote.webelement.WebElement (session=\"0cb1e1adc52211a03177e185524686ba\", element=\"0.06564700457413708-10\")>,\n",
       " <selenium.webdriver.remote.webelement.WebElement (session=\"0cb1e1adc52211a03177e185524686ba\", element=\"0.06564700457413708-11\")>,\n",
       " <selenium.webdriver.remote.webelement.WebElement (session=\"0cb1e1adc52211a03177e185524686ba\", element=\"0.06564700457413708-12\")>]"
      ]
     },
     "execution_count": 9,
     "metadata": {},
     "output_type": "execute_result"
    }
   ],
   "source": [
    "tr_data[0].find_elements_by_tag_name('td')"
   ]
  },
  {
   "cell_type": "code",
   "execution_count": 10,
   "metadata": {},
   "outputs": [],
   "source": [
    "player_stats = [ url.get_attribute(\"innerText\") for url in tr_data[0].find_elements_by_tag_name('td')]"
   ]
  },
  {
   "cell_type": "code",
   "execution_count": 110,
   "metadata": {},
   "outputs": [
    {
     "data": {
      "text/plain": [
       "['4.8', '30', '33.3', '0', '0.9', '0.3', '0.7', '0.1']"
      ]
     },
     "execution_count": 110,
     "metadata": {},
     "output_type": "execute_result"
    }
   ],
   "source": [
    "player_stats"
   ]
  },
  {
   "cell_type": "code",
   "execution_count": 107,
   "metadata": {},
   "outputs": [
    {
     "name": "stdout",
     "output_type": "stream",
     "text": [
      "4.8\n"
     ]
    }
   ],
   "source": [
    "MPG = player_stats[0]\n",
    "print(MPG)"
   ]
  },
  {
   "cell_type": "code",
   "execution_count": 109,
   "metadata": {},
   "outputs": [
    {
     "name": "stdout",
     "output_type": "stream",
     "text": [
      "30\n"
     ]
    }
   ],
   "source": [
    "FGP = player_stats[1]\n",
    "print(FGP)"
   ]
  },
  {
   "cell_type": "code",
   "execution_count": 117,
   "metadata": {},
   "outputs": [
    {
     "name": "stdout",
     "output_type": "stream",
     "text": [
      "33.3\n"
     ]
    }
   ],
   "source": [
    "T3PP = player_stats[2]\n",
    "print(T3PP)"
   ]
  },
  {
   "cell_type": "code",
   "execution_count": null,
   "metadata": {},
   "outputs": [],
   "source": [
    "# 자유투\n",
    "FTP = player_stats[3]\n",
    "# 게임별 득점\n",
    "PPG = player_stats[4]\n",
    "# 게임별 리바\n",
    "RPG = player_stats[5]\n",
    "# 게임별 어시\n",
    "APG = player_stats[6]\n",
    "# 게임별 블락\n",
    "BPG = player_stats[7]"
   ]
  },
  {
   "cell_type": "code",
   "execution_count": null,
   "metadata": {},
   "outputs": [],
   "source": []
  },
  {
   "cell_type": "code",
   "execution_count": null,
   "metadata": {},
   "outputs": [],
   "source": []
  },
  {
   "cell_type": "code",
   "execution_count": null,
   "metadata": {},
   "outputs": [],
   "source": []
  },
  {
   "cell_type": "code",
   "execution_count": 13,
   "metadata": {},
   "outputs": [
    {
     "name": "stdout",
     "output_type": "stream",
     "text": [
      "dfsf 4.8\n"
     ]
    }
   ],
   "source": [
    "print(\"dfsf\",player_stats[0])"
   ]
  },
  {
   "cell_type": "code",
   "execution_count": 237,
   "metadata": {},
   "outputs": [],
   "source": [
    "driver.close()"
   ]
  },
  {
   "cell_type": "code",
   "execution_count": null,
   "metadata": {},
   "outputs": [],
   "source": []
  }
 ],
 "metadata": {
  "kernelspec": {
   "display_name": "Python 3",
   "language": "python",
   "name": "python3"
  },
  "language_info": {
   "codemirror_mode": {
    "name": "ipython",
    "version": 3
   },
   "file_extension": ".py",
   "mimetype": "text/x-python",
   "name": "python",
   "nbconvert_exporter": "python",
   "pygments_lexer": "ipython3",
   "version": "3.6.6"
  }
 },
 "nbformat": 4,
 "nbformat_minor": 2
}
