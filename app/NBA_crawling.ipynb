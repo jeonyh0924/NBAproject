{
 "cells": [
  {
   "cell_type": "code",
   "execution_count": 1,
   "metadata": {},
   "outputs": [],
   "source": [
    "from selenium import webdriver"
   ]
  },
  {
   "cell_type": "code",
   "execution_count": 2,
   "metadata": {},
   "outputs": [],
   "source": [
    "import time\n",
    "from bs4 import BeautifulSoup\n",
    "import urllib"
   ]
  },
  {
   "cell_type": "code",
   "execution_count": 3,
   "metadata": {},
   "outputs": [],
   "source": [
    "driver = webdriver.Chrome('/Users/mac/projects/ChromeWebDriver/chromedriver')"
   ]
  },
  {
   "cell_type": "code",
   "execution_count": 4,
   "metadata": {},
   "outputs": [],
   "source": [
    "driver.implicitly_wait(3)"
   ]
  },
  {
   "cell_type": "code",
   "execution_count": 5,
   "metadata": {},
   "outputs": [],
   "source": [
    "driver.get('http://www.nba.com/teams/')"
   ]
  },
  {
   "cell_type": "code",
   "execution_count": 6,
   "metadata": {},
   "outputs": [],
   "source": [
    "time.sleep(3)"
   ]
  },
  {
   "cell_type": "code",
   "execution_count": 18,
   "metadata": {},
   "outputs": [],
   "source": [
    "team_url_list = driver.find_elements_by_xpath(\"//div/div/div[@class='team__list']/a\")"
   ]
  },
  {
   "cell_type": "code",
   "execution_count": 19,
   "metadata": {},
   "outputs": [
    {
     "name": "stdout",
     "output_type": "stream",
     "text": [
      "[<selenium.webdriver.remote.webelement.WebElement (session=\"56c8ef02cd5c3b0c23387bd483e72192\", element=\"0.14299433344449475-2\")>, <selenium.webdriver.remote.webelement.WebElement (session=\"56c8ef02cd5c3b0c23387bd483e72192\", element=\"0.14299433344449475-3\")>, <selenium.webdriver.remote.webelement.WebElement (session=\"56c8ef02cd5c3b0c23387bd483e72192\", element=\"0.14299433344449475-4\")>, <selenium.webdriver.remote.webelement.WebElement (session=\"56c8ef02cd5c3b0c23387bd483e72192\", element=\"0.14299433344449475-5\")>, <selenium.webdriver.remote.webelement.WebElement (session=\"56c8ef02cd5c3b0c23387bd483e72192\", element=\"0.14299433344449475-6\")>, <selenium.webdriver.remote.webelement.WebElement (session=\"56c8ef02cd5c3b0c23387bd483e72192\", element=\"0.14299433344449475-7\")>, <selenium.webdriver.remote.webelement.WebElement (session=\"56c8ef02cd5c3b0c23387bd483e72192\", element=\"0.14299433344449475-8\")>, <selenium.webdriver.remote.webelement.WebElement (session=\"56c8ef02cd5c3b0c23387bd483e72192\", element=\"0.14299433344449475-9\")>, <selenium.webdriver.remote.webelement.WebElement (session=\"56c8ef02cd5c3b0c23387bd483e72192\", element=\"0.14299433344449475-10\")>, <selenium.webdriver.remote.webelement.WebElement (session=\"56c8ef02cd5c3b0c23387bd483e72192\", element=\"0.14299433344449475-11\")>, <selenium.webdriver.remote.webelement.WebElement (session=\"56c8ef02cd5c3b0c23387bd483e72192\", element=\"0.14299433344449475-12\")>, <selenium.webdriver.remote.webelement.WebElement (session=\"56c8ef02cd5c3b0c23387bd483e72192\", element=\"0.14299433344449475-13\")>, <selenium.webdriver.remote.webelement.WebElement (session=\"56c8ef02cd5c3b0c23387bd483e72192\", element=\"0.14299433344449475-14\")>, <selenium.webdriver.remote.webelement.WebElement (session=\"56c8ef02cd5c3b0c23387bd483e72192\", element=\"0.14299433344449475-15\")>, <selenium.webdriver.remote.webelement.WebElement (session=\"56c8ef02cd5c3b0c23387bd483e72192\", element=\"0.14299433344449475-16\")>, <selenium.webdriver.remote.webelement.WebElement (session=\"56c8ef02cd5c3b0c23387bd483e72192\", element=\"0.14299433344449475-17\")>, <selenium.webdriver.remote.webelement.WebElement (session=\"56c8ef02cd5c3b0c23387bd483e72192\", element=\"0.14299433344449475-18\")>, <selenium.webdriver.remote.webelement.WebElement (session=\"56c8ef02cd5c3b0c23387bd483e72192\", element=\"0.14299433344449475-19\")>, <selenium.webdriver.remote.webelement.WebElement (session=\"56c8ef02cd5c3b0c23387bd483e72192\", element=\"0.14299433344449475-20\")>, <selenium.webdriver.remote.webelement.WebElement (session=\"56c8ef02cd5c3b0c23387bd483e72192\", element=\"0.14299433344449475-21\")>, <selenium.webdriver.remote.webelement.WebElement (session=\"56c8ef02cd5c3b0c23387bd483e72192\", element=\"0.14299433344449475-22\")>, <selenium.webdriver.remote.webelement.WebElement (session=\"56c8ef02cd5c3b0c23387bd483e72192\", element=\"0.14299433344449475-23\")>, <selenium.webdriver.remote.webelement.WebElement (session=\"56c8ef02cd5c3b0c23387bd483e72192\", element=\"0.14299433344449475-24\")>, <selenium.webdriver.remote.webelement.WebElement (session=\"56c8ef02cd5c3b0c23387bd483e72192\", element=\"0.14299433344449475-25\")>, <selenium.webdriver.remote.webelement.WebElement (session=\"56c8ef02cd5c3b0c23387bd483e72192\", element=\"0.14299433344449475-26\")>, <selenium.webdriver.remote.webelement.WebElement (session=\"56c8ef02cd5c3b0c23387bd483e72192\", element=\"0.14299433344449475-27\")>, <selenium.webdriver.remote.webelement.WebElement (session=\"56c8ef02cd5c3b0c23387bd483e72192\", element=\"0.14299433344449475-28\")>, <selenium.webdriver.remote.webelement.WebElement (session=\"56c8ef02cd5c3b0c23387bd483e72192\", element=\"0.14299433344449475-29\")>, <selenium.webdriver.remote.webelement.WebElement (session=\"56c8ef02cd5c3b0c23387bd483e72192\", element=\"0.14299433344449475-30\")>, <selenium.webdriver.remote.webelement.WebElement (session=\"56c8ef02cd5c3b0c23387bd483e72192\", element=\"0.14299433344449475-31\")>]\n"
     ]
    }
   ],
   "source": [
    "print(team_url_list)"
   ]
  },
  {
   "cell_type": "code",
   "execution_count": 20,
   "metadata": {},
   "outputs": [],
   "source": [
    "detail_urls = [url.get_attribute(\"href\") for url in team_url_list]"
   ]
  },
  {
   "cell_type": "code",
   "execution_count": 22,
   "metadata": {},
   "outputs": [
    {
     "name": "stdout",
     "output_type": "stream",
     "text": [
      "['http://www.nba.com/teams/hawks', 'http://www.nba.com/teams/celtics', 'http://www.nba.com/teams/nets', 'http://www.nba.com/teams/hornets', 'http://www.nba.com/teams/bulls', 'http://www.nba.com/teams/cavaliers', 'http://www.nba.com/teams/mavericks', 'http://www.nba.com/teams/nuggets', 'http://www.nba.com/teams/pistons', 'http://www.nba.com/teams/warriors', 'http://www.nba.com/teams/rockets', 'http://www.nba.com/teams/pacers', 'http://www.nba.com/teams/clippers', 'http://www.nba.com/teams/lakers', 'http://www.nba.com/teams/grizzlies', 'http://www.nba.com/teams/heat', 'http://www.nba.com/teams/bucks', 'http://www.nba.com/teams/timberwolves', 'http://www.nba.com/teams/pelicans', 'http://www.nba.com/teams/knicks', 'http://www.nba.com/teams/thunder', 'http://www.nba.com/teams/magic', 'http://www.nba.com/teams/sixers', 'http://www.nba.com/teams/suns', 'http://www.nba.com/teams/blazers', 'http://www.nba.com/teams/kings', 'http://www.nba.com/teams/spurs', 'http://www.nba.com/teams/raptors', 'http://www.nba.com/teams/jazz', 'http://www.nba.com/teams/wizards']\n"
     ]
    }
   ],
   "source": [
    "print(detail_urls)"
   ]
  },
  {
   "cell_type": "code",
   "execution_count": 23,
   "metadata": {},
   "outputs": [],
   "source": [
    "team_name = [url.get_attribute(\"innerText\") for url in team_url_list]"
   ]
  },
  {
   "cell_type": "code",
   "execution_count": 24,
   "metadata": {
    "scrolled": false
   },
   "outputs": [
    {
     "name": "stdout",
     "output_type": "stream",
     "text": [
      "['Atlanta Hawks', 'Boston Celtics', 'Brooklyn Nets', 'Charlotte Hornets', 'Chicago Bulls', 'Cleveland Cavaliers', 'Dallas Mavericks', 'Denver Nuggets', 'Detroit Pistons', 'Golden State Warriors', 'Houston Rockets', 'Indiana Pacers', 'LA Clippers', 'Los Angeles Lakers', 'Memphis Grizzlies', 'Miami Heat', 'Milwaukee Bucks', 'Minnesota Timberwolves', 'New Orleans Pelicans', 'New York Knicks', 'Oklahoma City Thunder', 'Orlando Magic', 'Philadelphia 76ers', 'Phoenix Suns', 'Portland Trail Blazers', 'Sacramento Kings', 'San Antonio Spurs', 'Toronto Raptors', 'Utah Jazz', 'Washington Wizards']\n"
     ]
    }
   ],
   "source": [
    "print(team_name)"
   ]
  },
  {
   "cell_type": "code",
   "execution_count": 15,
   "metadata": {},
   "outputs": [],
   "source": [
    "time.sleep(3)"
   ]
  },
  {
   "cell_type": "code",
   "execution_count": 37,
   "metadata": {},
   "outputs": [],
   "source": [
    "team_img = driver.find_elements_by_xpath(\"//div/div/div[@class='team__list']/img\")\n",
    "# team_img = driver.find_element_by_class_name('logo')"
   ]
  },
  {
   "cell_type": "code",
   "execution_count": 38,
   "metadata": {},
   "outputs": [],
   "source": [
    "detail_team_img = [url.get_attribute(\"src\") for url in team_img]"
   ]
  },
  {
   "cell_type": "code",
   "execution_count": 40,
   "metadata": {},
   "outputs": [
    {
     "name": "stdout",
     "output_type": "stream",
     "text": [
      "['https://www.nba.com/assets/logos/teams/primary/web/ATL.svg', 'https://www.nba.com/assets/logos/teams/primary/web/BOS.svg', 'https://www.nba.com/assets/logos/teams/primary/web/BKN.svg', 'https://www.nba.com/assets/logos/teams/primary/web/CHA.svg', 'https://www.nba.com/assets/logos/teams/primary/web/CHI.svg', 'https://www.nba.com/assets/logos/teams/primary/web/CLE.svg', 'https://www.nba.com/assets/logos/teams/primary/web/DAL.svg', 'https://www.nba.com/assets/logos/teams/primary/web/DEN.svg', 'https://www.nba.com/assets/logos/teams/primary/web/DET.svg', 'https://www.nba.com/assets/logos/teams/primary/web/GSW.svg', 'https://www.nba.com/assets/logos/teams/primary/web/HOU.svg', 'https://www.nba.com/assets/logos/teams/primary/web/IND.svg', 'https://www.nba.com/assets/logos/teams/primary/web/LAC.svg', 'https://www.nba.com/assets/logos/teams/primary/web/LAL.svg', 'https://www.nba.com/assets/logos/teams/primary/web/MEM.svg', 'https://www.nba.com/assets/logos/teams/primary/web/MIA.svg', 'https://www.nba.com/assets/logos/teams/primary/web/MIL.svg', 'https://www.nba.com/assets/logos/teams/primary/web/MIN.svg', 'https://www.nba.com/assets/logos/teams/primary/web/NOP.svg', 'https://www.nba.com/assets/logos/teams/primary/web/NYK.svg', 'https://www.nba.com/assets/logos/teams/primary/web/OKC.svg', 'https://www.nba.com/assets/logos/teams/primary/web/ORL.svg', 'https://www.nba.com/assets/logos/teams/primary/web/PHI.svg', 'https://www.nba.com/assets/logos/teams/primary/web/PHX.svg', 'https://www.nba.com/assets/logos/teams/primary/web/POR.svg', 'https://www.nba.com/assets/logos/teams/primary/web/SAC.svg', 'https://www.nba.com/assets/logos/teams/primary/web/SAS.svg', 'https://www.nba.com/assets/logos/teams/primary/web/TOR.svg', 'https://www.nba.com/assets/logos/teams/primary/web/UTA.svg', 'https://www.nba.com/assets/logos/teams/primary/web/WAS.svg']\n"
     ]
    }
   ],
   "source": [
    "print(detail_team_img)"
   ]
  },
  {
   "cell_type": "code",
   "execution_count": 41,
   "metadata": {},
   "outputs": [
    {
     "name": "stdout",
     "output_type": "stream",
     "text": [
      "30\n"
     ]
    }
   ],
   "source": [
    "print(len(detail_team_img))"
   ]
  },
  {
   "cell_type": "code",
   "execution_count": 42,
   "metadata": {},
   "outputs": [],
   "source": [
    "driver.close()"
   ]
  },
  {
   "cell_type": "code",
   "execution_count": null,
   "metadata": {},
   "outputs": [],
   "source": [
    "# for url in detail_urls:\n",
    "#     driver.get(url)\n",
    "#     time.sleep(2)\n",
    "#     try:\n",
    "        "
   ]
  },
  {
   "cell_type": "code",
   "execution_count": null,
   "metadata": {},
   "outputs": [],
   "source": []
  }
 ],
 "metadata": {
  "kernelspec": {
   "display_name": "Python 3",
   "language": "python",
   "name": "python3"
  },
  "language_info": {
   "codemirror_mode": {
    "name": "ipython",
    "version": 3
   },
   "file_extension": ".py",
   "mimetype": "text/x-python",
   "name": "python",
   "nbconvert_exporter": "python",
   "pygments_lexer": "ipython3",
   "version": "3.6.6"
  }
 },
 "nbformat": 4,
 "nbformat_minor": 2
}
