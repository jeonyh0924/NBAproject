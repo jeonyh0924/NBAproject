{
 "cells": [
  {
   "cell_type": "code",
   "execution_count": 1,
   "metadata": {},
   "outputs": [],
   "source": [
    "from selenium import webdriver\n",
    "import time\n",
    "from bs4 import BeautifulSoup\n",
    "import urllib.request\n",
    "import os"
   ]
  },
  {
   "cell_type": "code",
   "execution_count": 2,
   "metadata": {},
   "outputs": [],
   "source": [
    "driver = webdriver.Chrome('/Users/mac/projects/ChromeWebDriver/chromedriver')"
   ]
  },
  {
   "cell_type": "code",
   "execution_count": 3,
   "metadata": {},
   "outputs": [],
   "source": [
    "driver.implicitly_wait(3)"
   ]
  },
  {
   "cell_type": "code",
   "execution_count": 4,
   "metadata": {},
   "outputs": [],
   "source": [
    "driver.get('http://www.nba.com/teams/')"
   ]
  },
  {
   "cell_type": "code",
   "execution_count": 5,
   "metadata": {},
   "outputs": [],
   "source": [
    "time.sleep(3)"
   ]
  },
  {
   "cell_type": "markdown",
   "metadata": {},
   "source": [
    "### 각 팀별 url 페이지"
   ]
  },
  {
   "cell_type": "code",
   "execution_count": 6,
   "metadata": {},
   "outputs": [],
   "source": [
    "team_url_list = driver.find_elements_by_xpath(\"//div/div/div[@class='team__list']/a\")"
   ]
  },
  {
   "cell_type": "code",
   "execution_count": 7,
   "metadata": {},
   "outputs": [],
   "source": [
    "detail_urls = [url.get_attribute(\"href\") for url in team_url_list]"
   ]
  },
  {
   "cell_type": "markdown",
   "metadata": {},
   "source": [
    "### 각 팀별 이름 출력"
   ]
  },
  {
   "cell_type": "code",
   "execution_count": 8,
   "metadata": {},
   "outputs": [],
   "source": [
    "team_name = [url.get_attribute(\"innerText\") for url in team_url_list]"
   ]
  },
  {
   "cell_type": "markdown",
   "metadata": {},
   "source": [
    "### 각 팀별 이미지 출력"
   ]
  },
  {
   "cell_type": "code",
   "execution_count": 9,
   "metadata": {},
   "outputs": [],
   "source": [
    "team_img_urls = driver.find_elements_by_xpath(\"//div/div/div[@class='team__list']/img\")"
   ]
  },
  {
   "cell_type": "code",
   "execution_count": 10,
   "metadata": {},
   "outputs": [],
   "source": [
    "team_img_url = [url.get_attribute(\"src\") for url in team_img_urls]"
   ]
  },
  {
   "cell_type": "markdown",
   "metadata": {},
   "source": [
    "### 팀 이미지 파일 저장"
   ]
  },
  {
   "cell_type": "code",
   "execution_count": 12,
   "metadata": {
    "scrolled": false
   },
   "outputs": [
    {
     "name": "stdout",
     "output_type": "stream",
     "text": [
      "already exists  Atlanta Hawks\n",
      "already exists  Boston Celtics\n",
      "already exists  Brooklyn Nets\n",
      "already exists  Charlotte Hornets\n",
      "already exists  Chicago Bulls\n",
      "already exists  Cleveland Cavaliers\n",
      "already exists  Dallas Mavericks\n",
      "already exists  Denver Nuggets\n",
      "already exists  Detroit Pistons\n",
      "already exists  Golden State Warriors\n",
      "already exists  Houston Rockets\n",
      "already exists  Indiana Pacers\n",
      "already exists  LA Clippers\n",
      "already exists  Los Angeles Lakers\n",
      "already exists  Memphis Grizzlies\n",
      "already exists  Miami Heat\n",
      "already exists  Milwaukee Bucks\n",
      "already exists  Minnesota Timberwolves\n",
      "already exists  New Orleans Pelicans\n",
      "already exists  New York Knicks\n",
      "already exists  Oklahoma City Thunder\n",
      "already exists  Orlando Magic\n",
      "already exists  Philadelphia 76ers\n",
      "already exists  Phoenix Suns\n",
      "already exists  Portland Trail Blazers\n",
      "already exists  Sacramento Kings\n",
      "already exists  San Antonio Spurs\n",
      "already exists  Toronto Raptors\n",
      "already exists  Utah Jazz\n",
      "already exists  Washington Wizards\n"
     ]
    }
   ],
   "source": [
    "for url,name in zip (team_img_url,team_name):\n",
    "    dirName = name\n",
    "    try:\n",
    "    # Create target Directory\n",
    "     \n",
    "        os.mkdir(f'static/{dirName}')\n",
    "        print(\"Directory \" , dirName ,  \" Created \") \n",
    "    except FileExistsError:\n",
    "        print(\"already exists \",dirName)\n",
    "        pass\n",
    "    urllib.request.urlretrieve(url,f'static/{name}/{name}.svg')"
   ]
  },
  {
   "cell_type": "markdown",
   "metadata": {},
   "source": [
    "### 각 팀당 선수들 url "
   ]
  },
  {
   "cell_type": "code",
   "execution_count": 13,
   "metadata": {},
   "outputs": [
    {
     "name": "stdout",
     "output_type": "stream",
     "text": [
      "=========== 이미지 출력 : http://ak-static.cms.nba.com/wp-content/uploads/headshots/nba/latest/260x190/1629121.png\n",
      "-------- stat : ['4.5', '33.3', '42.9', '100', '1.3', '0.4', '0.6', '0.1']\n",
      "출장 시간 : 4.5\n",
      "야투 성공률 : 33.3\n",
      "3점 야투 성공률 : 42.9\n",
      "자유투 성공률 : 100\n",
      "게임 평균 득점 : 1.3\n",
      "게임 평균 리바운드 : 0.4\n",
      "게임 평균 어시 : 0.6\n",
      "게임 평균 블락 : 0.1\n",
      "선수 등 번호 : 10\n",
      "선수 포지션 : G\n",
      "선수 이름 : Jaylen\n",
      "선수 성씨 : Adams\n",
      "선수 키 : 1.88m\n",
      "선수 무게: 86.2kg\n",
      "선수 생년 월일  05/04/1996\n",
      "선수 고향 St. Bonaventure\n",
      "선수 데뷔년도 2018\n",
      "10 Jaylen Adams  Created ===========\n",
      "\n",
      "=========== 이미지 출력 : http://ak-static.cms.nba.com/wp-content/uploads/headshots/nba/latest/260x190/1626147.png\n",
      "-------- stat : ['8.2', '38.3', '20.5', '76.2', '3', '1.5', '0.4', '0.2']\n",
      "출장 시간 : 8.2\n",
      "야투 성공률 : 38.3\n",
      "3점 야투 성공률 : 20.5\n",
      "자유투 성공률 : 76.2\n",
      "게임 평균 득점 : 3\n",
      "게임 평균 리바운드 : 1.5\n",
      "게임 평균 어시 : 0.4\n",
      "게임 평균 블락 : 0.2\n",
      "선수 등 번호 : 1\n",
      "선수 포지션 : G-F\n",
      "선수 이름 : Justin\n",
      "선수 성씨 : Anderson\n",
      "선수 키 : 1.98m\n",
      "선수 무게: 104.3kg\n",
      "선수 생년 월일  11/19/1993\n",
      "선수 고향 Virginia\n",
      "선수 데뷔년도 2015\n",
      "1 Justin Anderson  Created ===========\n",
      "\n",
      "=========== 이미지 출력 : http://ak-static.cms.nba.com/wp-content/uploads/headshots/nba/latest/260x190/203145.png\n",
      "-------- stat : ['25.5', '43.7', '32.3', '72.7', '13', '3.7', '2.5', '0.8']\n",
      "출장 시간 : 25.5\n",
      "야투 성공률 : 43.7\n",
      "3점 야투 성공률 : 32.3\n",
      "자유투 성공률 : 72.7\n",
      "게임 평균 득점 : 13\n",
      "게임 평균 리바운드 : 3.7\n",
      "게임 평균 어시 : 2.5\n",
      "게임 평균 블락 : 0.8\n",
      "선수 등 번호 : 24\n",
      "선수 포지션 : G\n",
      "선수 이름 : Kent\n",
      "선수 성씨 : Bazemore\n",
      "선수 키 : 1.96m\n",
      "선수 무게: 91.2kg\n",
      "선수 생년 월일  07/01/1989\n",
      "선수 고향 Old Dominion\n",
      "선수 데뷔년도 2012\n",
      "24 Kent Bazemore  Created ===========\n",
      "\n",
      "=========== 이미지 출력 : http://ak-static.cms.nba.com/wp-content/uploads/headshots/nba/latest/260x190/1627761.png\n",
      "-------- stat : ['24.4', '43', '28.9', '61.8', '8.1', '4.1', '2.5', '0.5']\n",
      "출장 시간 : 24.4\n",
      "야투 성공률 : 43\n",
      "3점 야투 성공률 : 28.9\n",
      "자유투 성공률 : 61.8\n",
      "게임 평균 득점 : 8.1\n",
      "게임 평균 리바운드 : 4.1\n",
      "게임 평균 어시 : 2.5\n",
      "게임 평균 블락 : 0.5\n",
      "선수 등 번호 : 95\n",
      "선수 포지션 : F\n",
      "선수 이름 : DeAndre'\n",
      "선수 성씨 : Bembry\n",
      "선수 키 : 1.98m\n",
      "선수 무게: 95.3kg\n",
      "선수 생년 월일  07/04/1994\n",
      "선수 고향 Saint Joseph's\n",
      "선수 데뷔년도 2016\n",
      "95 DeAndre' Bembry  Created ===========\n",
      "\n"
     ]
    },
    {
     "ename": "NoSuchWindowException",
     "evalue": "Message: no such window: window was already closed\n  (Session info: chrome=72.0.3626.96)\n  (Driver info: chromedriver=2.44.609545 (c2f88692e98ce7233d2df7c724465ecacfe74df5),platform=Mac OS X 10.14.0 x86_64)\n",
     "output_type": "error",
     "traceback": [
      "\u001b[0;31m---------------------------------------------------------------------------\u001b[0m",
      "\u001b[0;31mNoSuchWindowException\u001b[0m                     Traceback (most recent call last)",
      "\u001b[0;32m<ipython-input-13-415910f026b4>\u001b[0m in \u001b[0;36m<module>\u001b[0;34m\u001b[0m\n\u001b[1;32m     15\u001b[0m \u001b[0;34m\u001b[0m\u001b[0m\n\u001b[1;32m     16\u001b[0m         \u001b[0;31m# 이미지 src\u001b[0m\u001b[0;34m\u001b[0m\u001b[0;34m\u001b[0m\u001b[0m\n\u001b[0;32m---> 17\u001b[0;31m         \u001b[0mplayer_img_url_section\u001b[0m \u001b[0;34m=\u001b[0m \u001b[0mdriver\u001b[0m\u001b[0;34m.\u001b[0m\u001b[0mfind_elements_by_xpath\u001b[0m\u001b[0;34m(\u001b[0m\u001b[0;34m'//*[@id=\"block-league-content\"]/player-detail/section[1]/header/section[1]/img'\u001b[0m\u001b[0;34m)\u001b[0m\u001b[0;34m\u001b[0m\u001b[0m\n\u001b[0m\u001b[1;32m     18\u001b[0m         \u001b[0mplayer_img_src\u001b[0m \u001b[0;34m=\u001b[0m \u001b[0mplayer_img_url_section\u001b[0m\u001b[0;34m[\u001b[0m\u001b[0;36m0\u001b[0m\u001b[0;34m]\u001b[0m\u001b[0;34m.\u001b[0m\u001b[0mget_attribute\u001b[0m\u001b[0;34m(\u001b[0m\u001b[0;34m\"src\"\u001b[0m\u001b[0;34m)\u001b[0m\u001b[0;34m\u001b[0m\u001b[0m\n\u001b[1;32m     19\u001b[0m         \u001b[0mprint\u001b[0m\u001b[0;34m(\u001b[0m\u001b[0;34m\"=========== 이미지 출력 :\"\u001b[0m\u001b[0;34m,\u001b[0m\u001b[0mplayer_img_src\u001b[0m\u001b[0;34m)\u001b[0m\u001b[0;34m\u001b[0m\u001b[0m\n",
      "\u001b[0;32m/usr/local/var/pyenv/versions/3.6.6/envs/fc-nba/lib/python3.6/site-packages/selenium/webdriver/remote/webdriver.py\u001b[0m in \u001b[0;36mfind_elements_by_xpath\u001b[0;34m(self, xpath)\u001b[0m\n\u001b[1;32m    408\u001b[0m             \u001b[0melements\u001b[0m \u001b[0;34m=\u001b[0m \u001b[0mdriver\u001b[0m\u001b[0;34m.\u001b[0m\u001b[0mfind_elements_by_xpath\u001b[0m\u001b[0;34m(\u001b[0m\u001b[0;34m\"//div[contains(@class, 'foo')]\"\u001b[0m\u001b[0;34m)\u001b[0m\u001b[0;34m\u001b[0m\u001b[0m\n\u001b[1;32m    409\u001b[0m         \"\"\"\n\u001b[0;32m--> 410\u001b[0;31m         \u001b[0;32mreturn\u001b[0m \u001b[0mself\u001b[0m\u001b[0;34m.\u001b[0m\u001b[0mfind_elements\u001b[0m\u001b[0;34m(\u001b[0m\u001b[0mby\u001b[0m\u001b[0;34m=\u001b[0m\u001b[0mBy\u001b[0m\u001b[0;34m.\u001b[0m\u001b[0mXPATH\u001b[0m\u001b[0;34m,\u001b[0m \u001b[0mvalue\u001b[0m\u001b[0;34m=\u001b[0m\u001b[0mxpath\u001b[0m\u001b[0;34m)\u001b[0m\u001b[0;34m\u001b[0m\u001b[0m\n\u001b[0m\u001b[1;32m    411\u001b[0m \u001b[0;34m\u001b[0m\u001b[0m\n\u001b[1;32m    412\u001b[0m     \u001b[0;32mdef\u001b[0m \u001b[0mfind_element_by_link_text\u001b[0m\u001b[0;34m(\u001b[0m\u001b[0mself\u001b[0m\u001b[0;34m,\u001b[0m \u001b[0mlink_text\u001b[0m\u001b[0;34m)\u001b[0m\u001b[0;34m:\u001b[0m\u001b[0;34m\u001b[0m\u001b[0m\n",
      "\u001b[0;32m/usr/local/var/pyenv/versions/3.6.6/envs/fc-nba/lib/python3.6/site-packages/selenium/webdriver/remote/webdriver.py\u001b[0m in \u001b[0;36mfind_elements\u001b[0;34m(self, by, value)\u001b[0m\n\u001b[1;32m   1005\u001b[0m         return self.execute(Command.FIND_ELEMENTS, {\n\u001b[1;32m   1006\u001b[0m             \u001b[0;34m'using'\u001b[0m\u001b[0;34m:\u001b[0m \u001b[0mby\u001b[0m\u001b[0;34m,\u001b[0m\u001b[0;34m\u001b[0m\u001b[0m\n\u001b[0;32m-> 1007\u001b[0;31m             'value': value})['value'] or []\n\u001b[0m\u001b[1;32m   1008\u001b[0m \u001b[0;34m\u001b[0m\u001b[0m\n\u001b[1;32m   1009\u001b[0m     \u001b[0;34m@\u001b[0m\u001b[0mproperty\u001b[0m\u001b[0;34m\u001b[0m\u001b[0m\n",
      "\u001b[0;32m/usr/local/var/pyenv/versions/3.6.6/envs/fc-nba/lib/python3.6/site-packages/selenium/webdriver/remote/webdriver.py\u001b[0m in \u001b[0;36mexecute\u001b[0;34m(self, driver_command, params)\u001b[0m\n\u001b[1;32m    319\u001b[0m         \u001b[0mresponse\u001b[0m \u001b[0;34m=\u001b[0m \u001b[0mself\u001b[0m\u001b[0;34m.\u001b[0m\u001b[0mcommand_executor\u001b[0m\u001b[0;34m.\u001b[0m\u001b[0mexecute\u001b[0m\u001b[0;34m(\u001b[0m\u001b[0mdriver_command\u001b[0m\u001b[0;34m,\u001b[0m \u001b[0mparams\u001b[0m\u001b[0;34m)\u001b[0m\u001b[0;34m\u001b[0m\u001b[0m\n\u001b[1;32m    320\u001b[0m         \u001b[0;32mif\u001b[0m \u001b[0mresponse\u001b[0m\u001b[0;34m:\u001b[0m\u001b[0;34m\u001b[0m\u001b[0m\n\u001b[0;32m--> 321\u001b[0;31m             \u001b[0mself\u001b[0m\u001b[0;34m.\u001b[0m\u001b[0merror_handler\u001b[0m\u001b[0;34m.\u001b[0m\u001b[0mcheck_response\u001b[0m\u001b[0;34m(\u001b[0m\u001b[0mresponse\u001b[0m\u001b[0;34m)\u001b[0m\u001b[0;34m\u001b[0m\u001b[0m\n\u001b[0m\u001b[1;32m    322\u001b[0m             response['value'] = self._unwrap_value(\n\u001b[1;32m    323\u001b[0m                 response.get('value', None))\n",
      "\u001b[0;32m/usr/local/var/pyenv/versions/3.6.6/envs/fc-nba/lib/python3.6/site-packages/selenium/webdriver/remote/errorhandler.py\u001b[0m in \u001b[0;36mcheck_response\u001b[0;34m(self, response)\u001b[0m\n\u001b[1;32m    240\u001b[0m                 \u001b[0malert_text\u001b[0m \u001b[0;34m=\u001b[0m \u001b[0mvalue\u001b[0m\u001b[0;34m[\u001b[0m\u001b[0;34m'alert'\u001b[0m\u001b[0;34m]\u001b[0m\u001b[0;34m.\u001b[0m\u001b[0mget\u001b[0m\u001b[0;34m(\u001b[0m\u001b[0;34m'text'\u001b[0m\u001b[0;34m)\u001b[0m\u001b[0;34m\u001b[0m\u001b[0m\n\u001b[1;32m    241\u001b[0m             \u001b[0;32mraise\u001b[0m \u001b[0mexception_class\u001b[0m\u001b[0;34m(\u001b[0m\u001b[0mmessage\u001b[0m\u001b[0;34m,\u001b[0m \u001b[0mscreen\u001b[0m\u001b[0;34m,\u001b[0m \u001b[0mstacktrace\u001b[0m\u001b[0;34m,\u001b[0m \u001b[0malert_text\u001b[0m\u001b[0;34m)\u001b[0m\u001b[0;34m\u001b[0m\u001b[0m\n\u001b[0;32m--> 242\u001b[0;31m         \u001b[0;32mraise\u001b[0m \u001b[0mexception_class\u001b[0m\u001b[0;34m(\u001b[0m\u001b[0mmessage\u001b[0m\u001b[0;34m,\u001b[0m \u001b[0mscreen\u001b[0m\u001b[0;34m,\u001b[0m \u001b[0mstacktrace\u001b[0m\u001b[0;34m)\u001b[0m\u001b[0;34m\u001b[0m\u001b[0m\n\u001b[0m\u001b[1;32m    243\u001b[0m \u001b[0;34m\u001b[0m\u001b[0m\n\u001b[1;32m    244\u001b[0m     \u001b[0;32mdef\u001b[0m \u001b[0m_value_or_default\u001b[0m\u001b[0;34m(\u001b[0m\u001b[0mself\u001b[0m\u001b[0;34m,\u001b[0m \u001b[0mobj\u001b[0m\u001b[0;34m,\u001b[0m \u001b[0mkey\u001b[0m\u001b[0;34m,\u001b[0m \u001b[0mdefault\u001b[0m\u001b[0;34m)\u001b[0m\u001b[0;34m:\u001b[0m\u001b[0;34m\u001b[0m\u001b[0m\n",
      "\u001b[0;31mNoSuchWindowException\u001b[0m: Message: no such window: window was already closed\n  (Session info: chrome=72.0.3626.96)\n  (Driver info: chromedriver=2.44.609545 (c2f88692e98ce7233d2df7c724465ecacfe74df5),platform=Mac OS X 10.14.0 x86_64)\n"
     ]
    }
   ],
   "source": [
    "for url,team_name in zip(detail_urls,team_name):\n",
    "    # 팀별 url 접근\n",
    "    driver.get(url)\n",
    "    time.sleep(2)\n",
    "    \n",
    "    # 선수들 url 추출\n",
    "    all_players_urls = driver.find_elements_by_class_name(\"nba-player-index__trending-item\")\n",
    "    player_url_a_tags = [url.find_elements_by_tag_name('a') for url in all_players_urls]\n",
    "    player_url = [url[0].get_attribute(\"href\") for url in player_url_a_tags]\n",
    "        \n",
    "    # 선수별 url 접근\n",
    "    for url in player_url:\n",
    "        driver.get(url)\n",
    "        time.sleep(2)\n",
    "        \n",
    "        # 이미지 src \n",
    "        player_img_url_section = driver.find_elements_by_xpath('//*[@id=\"block-league-content\"]/player-detail/section[1]/header/section[1]/img')\n",
    "        player_img_src = player_img_url_section[0].get_attribute(\"src\")\n",
    "        print(\"=========== 이미지 출력 :\",player_img_src)  \n",
    "        \n",
    "        # 스탯 \n",
    "        season_stat_tbody= driver.find_elements_by_xpath('//*[@id=\"block-league-content\"]/player-detail/player-snapshot-career/section/table/tbody')\n",
    "        tr_data = season_stat_tbody[0].find_elements_by_tag_name('tr')\n",
    "        tr_data[0].find_elements_by_tag_name('td')\n",
    "        player_stats = [ url.get_attribute(\"innerText\") for url in tr_data[0].find_elements_by_tag_name('td')]\n",
    "        print(\"-------- stat :\",player_stats)\n",
    "        MPG = player_stats[0]\n",
    "        print(\"출장 시간 :\",MPG)\n",
    "        FGP = player_stats[1]\n",
    "        print(\"야투 성공률 :\",FGP)\n",
    "        T3PP = player_stats[2]\n",
    "        print(\"3점 야투 성공률 :\",T3PP)\n",
    "\n",
    "        FTP = player_stats[3]\n",
    "        print(\"자유투 성공률 :\",FTP)\n",
    "\n",
    "        PPG = player_stats[4]\n",
    "        print(\"게임 평균 득점 :\",PPG)\n",
    "\n",
    "        RPG = player_stats[5]\n",
    "        print(\"게임 평균 리바운드 :\",RPG)\n",
    "\n",
    "        APG = player_stats[6]\n",
    "        print(\"게임 평균 어시 :\",APG)\n",
    "\n",
    "        BPG = player_stats[7]\n",
    "        print(\"게임 평균 블락 :\",BPG)\n",
    "        \n",
    "        # 프로필 \n",
    "        player_back_number = driver.find_element_by_xpath('//*[@id=\"block-league-content\"]/player-detail/section[1]/header/section[2]/p/span[1]').get_attribute(\"innerText\")[1:]\n",
    "        print(\"선수 등 번호 :\",player_back_number)\n",
    "        \n",
    "        player_position = driver.find_element_by_xpath('//*[@id=\"block-league-content\"]/player-detail/section[1]/header/section[2]/p/span[3]').get_attribute('innerText')\n",
    "        print(\"선수 포지션 :\",player_position)\n",
    "        \n",
    "        player_first_name = driver.find_element_by_xpath('//*[@id=\"block-league-content\"]/player-detail/section[1]/header/section[2]/section/p[1]').get_attribute('innerText')\n",
    "        print(\"선수 이름 :\",player_first_name)\n",
    "        \n",
    "        player_last_name = driver.find_element_by_xpath('//*[@id=\"block-league-content\"]/player-detail/section[1]/header/section[2]/section/p[2]').get_attribute('innerText')\n",
    "        print(\"선수 성씨 :\",player_last_name)\n",
    "        \n",
    "        player_height = driver.find_element_by_xpath('//*[@id=\"player-tabs-Info\"]/section/section[1]/section[1]/section[1]/p[3]').get_attribute('innerText')[2:]\n",
    "        print(\"선수 키 :\",player_height)\n",
    "        \n",
    "        player_weight = driver.find_element_by_xpath('//*[@id=\"player-tabs-Info\"]/section/section[1]/section[1]/section[2]/p[3]').get_attribute('innerText')[2:]\n",
    "        print(\"선수 무게:\",player_weight)\n",
    "        \n",
    "        player_born = driver.find_element_by_xpath('//*[@id=\"player-tabs-Info\"]/section/section[1]/section[2]/ul/li[1]/span[2]').get_attribute('innerText')\n",
    "        print(\"선수 생년 월일 \",player_born)\n",
    "        \n",
    "        player_hometown = driver.find_element_by_xpath('//*[@id=\"player-tabs-Info\"]/section/section[1]/section[2]/ul/li[3]/span[2]').get_attribute('innerText')\n",
    "        print(\"선수 고향\",player_hometown)\n",
    "        \n",
    "        player_nba_debut = driver.find_element_by_xpath('//*[@id=\"player-tabs-Info\"]/section/section[1]/section[2]/ul/li[4]/span[2]').get_attribute('innerText')\n",
    "        print(\"선수 데뷔년도\",player_nba_debut)\n",
    "        \n",
    "        \n",
    "        # 선수 이미지 로컬 저장\n",
    "        try:\n",
    "            player_path = player_back_number +\" \"+ player_first_name +\" \"+ player_last_name\n",
    "            urllib.request.urlretrieve(player_img_src,f'static/{team_name}/{player_path}.png')\n",
    "            print(player_path,\" Created ===========\")\n",
    "        except FileExistError:\n",
    "            print(\"already exists \", player_path)\n",
    "            pass\n",
    "\n",
    "        print(\"\")"
   ]
  },
  {
   "cell_type": "code",
   "execution_count": null,
   "metadata": {},
   "outputs": [],
   "source": []
  },
  {
   "cell_type": "code",
   "execution_count": null,
   "metadata": {},
   "outputs": [],
   "source": [
    "driver.close()"
   ]
  },
  {
   "cell_type": "code",
   "execution_count": null,
   "metadata": {},
   "outputs": [],
   "source": [
    "//*[@id=\"block-league-content\"]/team-detail/div/section[1]/header/header/section[1]/div[2]/p[2]\n",
    "team_name = driver.find_element_by_xpath('//*[@id=\"block-league-content\"]/team-detail/div/section[1]/header/header/section[1]/div[2]/p[2]').get_attribute('innerText')\n",
    "team_name = Teams[index]"
   ]
  }
 ],
 "metadata": {
  "kernelspec": {
   "display_name": "Python 3",
   "language": "python",
   "name": "python3"
  },
  "language_info": {
   "codemirror_mode": {
    "name": "ipython",
    "version": 3
   },
   "file_extension": ".py",
   "mimetype": "text/x-python",
   "name": "python",
   "nbconvert_exporter": "python",
   "pygments_lexer": "ipython3",
   "version": "3.6.6"
  }
 },
 "nbformat": 4,
 "nbformat_minor": 2
}
