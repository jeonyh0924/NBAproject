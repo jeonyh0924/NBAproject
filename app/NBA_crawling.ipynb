{
 "cells": [
  {
   "cell_type": "code",
   "execution_count": 1,
   "metadata": {},
   "outputs": [],
   "source": [
    "from selenium import webdriver\n",
    "import time\n",
    "from bs4 import BeautifulSoup\n",
    "import urllib"
   ]
  },
  {
   "cell_type": "code",
   "execution_count": 2,
   "metadata": {},
   "outputs": [],
   "source": [
    "driver = webdriver.Chrome('/Users/mac/projects/ChromeWebDriver/chromedriver')"
   ]
  },
  {
   "cell_type": "code",
   "execution_count": 3,
   "metadata": {},
   "outputs": [],
   "source": [
    "driver.implicitly_wait(3)"
   ]
  },
  {
   "cell_type": "code",
   "execution_count": 4,
   "metadata": {},
   "outputs": [],
   "source": [
    "driver.get('http://www.nba.com/teams/')"
   ]
  },
  {
   "cell_type": "code",
   "execution_count": null,
   "metadata": {},
   "outputs": [],
   "source": [
    "time.sleep(3)"
   ]
  },
  {
   "cell_type": "markdown",
   "metadata": {},
   "source": [
    "### 각 팀별 url 페이지"
   ]
  },
  {
   "cell_type": "code",
   "execution_count": null,
   "metadata": {},
   "outputs": [],
   "source": [
    "team_url_list = driver.find_elements_by_xpath(\"//div/div/div[@class='team__list']/a\")"
   ]
  },
  {
   "cell_type": "code",
   "execution_count": null,
   "metadata": {},
   "outputs": [],
   "source": [
    "detail_urls = [url.get_attribute(\"href\") for url in team_url_list]"
   ]
  },
  {
   "cell_type": "markdown",
   "metadata": {},
   "source": [
    "### 각 팀별 이름 출력"
   ]
  },
  {
   "cell_type": "code",
   "execution_count": null,
   "metadata": {},
   "outputs": [],
   "source": [
    "team_name = [url.get_attribute(\"innerText\") for url in team_url_list]"
   ]
  },
  {
   "cell_type": "code",
   "execution_count": null,
   "metadata": {},
   "outputs": [],
   "source": [
    "time.sleep(3)"
   ]
  },
  {
   "cell_type": "markdown",
   "metadata": {},
   "source": [
    "### 각 팀별 이미지 출력"
   ]
  },
  {
   "cell_type": "code",
   "execution_count": null,
   "metadata": {},
   "outputs": [],
   "source": [
    "team_img = driver.find_elements_by_xpath(\"//div/div/div[@class='team__list']/img\")\n",
    "# team_img = driver.find_element_by_class_name('logo')"
   ]
  },
  {
   "cell_type": "code",
   "execution_count": null,
   "metadata": {},
   "outputs": [],
   "source": [
    "detail_team_img = [url.get_attribute(\"src\") for url in team_img]"
   ]
  },
  {
   "cell_type": "markdown",
   "metadata": {},
   "source": [
    "### 각 팀당 선수들 url "
   ]
  },
  {
   "cell_type": "code",
   "execution_count": null,
   "metadata": {},
   "outputs": [],
   "source": [
    "for url in detail_urls:\n",
    "    driver.get(url)\n",
    "    time.sleep(2)\n",
    "    \n",
    "    # 선수들 url 추출\n",
    "    all_players_urls = driver.find_elements_by_class_name(\"nba-player-index__trending-item\")\n",
    "    player_url_a_tags = [url.find_elements_by_tag_name('a') for url in all_players_urls]\n",
    "    player_url = [url[0].get_attribute(\"href\") for url in player_url_a_tags]\n",
    "        \n",
    "    # 선수별 url 접근\n",
    "    for url in player_url:\n",
    "        driver.get(url)\n",
    "        time.sleep(2)\n",
    "        \n",
    "        # 이미지 src \n",
    "        player_img_url_section = driver.find_elements_by_xpath('//*[@id=\"block-league-content\"]/player-detail/section[1]/header/section[1]/img')\n",
    "        player_img_src = player_img_url_section[0].get_attribute(\"src\")\n",
    "        print(\"=========== 이미지 출력 :\",player_img_src)\n",
    "        \n",
    "        \n",
    "        # 스탯 \n",
    "        season_stat_tbody= driver.find_elements_by_xpath('//*[@id=\"block-league-content\"]/player-detail/player-snapshot-career/section/table/tbody')\n",
    "        tr_data = season_stat_tbody[0].find_elements_by_tag_name('tr')\n",
    "        tr_data[0].find_elements_by_tag_name('td')\n",
    "        player_stats = [ url.get_attribute(\"innerText\") for url in tr_data[0].find_elements_by_tag_name('td')]\n",
    "        print(\"-------- stat :\",player_stats)\n",
    "        MPG = player_stats[0]\n",
    "        print(\"출장 시간 :\",MPG)\n",
    "        FGP = player_stats[1]\n",
    "        print(\"야투 성공률 :\",FGP)\n",
    "        T3PP = player_stats[2]\n",
    "        print(\"3점 야투 성공률 :\",T3PP)\n",
    "\n",
    "        FTP = player_stats[3]\n",
    "        print(\"자유투 성공률 :\",FTP)\n",
    "\n",
    "        PPG = player_stats[4]\n",
    "        print(\"게임 평균 득점 :\",PPG)\n",
    "\n",
    "        RPG = player_stats[5]\n",
    "        print(\"게임 평균 리바운드 :\",RPG)\n",
    "\n",
    "        APG = player_stats[6]\n",
    "        print(\"게임 평균 어시 :\",APG)\n",
    "\n",
    "        BPG = player_stats[7]\n",
    "        print(\"게임 평균 블락 :\",BPG)\n",
    "        \n",
    "        # 프로필 \n",
    "        player_back_number = driver.find_element_by_xpath('//*[@id=\"block-league-content\"]/player-detail/section[1]/header/section[2]/p/span[1]').get_attribute(\"innerText\")[1:]\n",
    "        print(\"선수 등 번호 :\",player_back_number)\n",
    "        \n",
    "        player_position = driver.find_element_by_xpath('//*[@id=\"block-league-content\"]/player-detail/section[1]/header/section[2]/p/span[3]').get_attribute('innerText')\n",
    "        print(\"선수 포지션 :\",player_position)\n",
    "        \n",
    "        player_first_name = driver.find_element_by_xpath('//*[@id=\"block-league-content\"]/player-detail/section[1]/header/section[2]/section/p[1]').get_attribute('innerText')\n",
    "        print(\"선수 이름 :\",player_first_name)\n",
    "        \n",
    "        player_last_name = driver.find_element_by_xpath('//*[@id=\"block-league-content\"]/player-detail/section[1]/header/section[2]/section/p[2]').get_attribute('innerText')\n",
    "        print(\"선수 성씨 :\",player_last_name)\n",
    "        \n",
    "        player_height = driver.find_element_by_xpath('//*[@id=\"player-tabs-Info\"]/section/section[1]/section[1]/section[1]/p[3]').get_attribute('innerText')[2:]\n",
    "        print(\"선수 키 :\",player_height)\n",
    "        \n",
    "        player_weight = driver.find_element_by_xpath('//*[@id=\"player-tabs-Info\"]/section/section[1]/section[1]/section[2]/p[3]').get_attribute('innerText')[2:]\n",
    "        print(\"선수 무게:\",player_weight)\n",
    "        \n",
    "        player_born = driver.find_element_by_xpath('//*[@id=\"player-tabs-Info\"]/section/section[1]/section[2]/ul/li[1]/span[2]').get_attribute('innerText')\n",
    "        print(\"선수 생년 월일 \",player_born)\n",
    "        \n",
    "        player_hometown = driver.find_element_by_xpath('//*[@id=\"player-tabs-Info\"]/section/section[1]/section[2]/ul/li[3]/span[2]').get_attribute('innerText')\n",
    "        print(\"선수 고향\",player_hometown)\n",
    "        \n",
    "        player_nba_debut = driver.find_element_by_xpath('//*[@id=\"player-tabs-Info\"]/section/section[1]/section[2]/ul/li[4]/span[2]').get_attribute('innerText')\n",
    "        print(\"선수 데뷔년도\",player_nba_debut)\n",
    "        \n",
    "        print(\"\")"
   ]
  },
  {
   "cell_type": "code",
   "execution_count": null,
   "metadata": {},
   "outputs": [],
   "source": []
  },
  {
   "cell_type": "code",
   "execution_count": null,
   "metadata": {},
   "outputs": [],
   "source": [
    "driver.close()"
   ]
  },
  {
   "cell_type": "code",
   "execution_count": null,
   "metadata": {},
   "outputs": [],
   "source": []
  }
 ],
 "metadata": {
  "kernelspec": {
   "display_name": "Python 3",
   "language": "python",
   "name": "python3"
  },
  "language_info": {
   "codemirror_mode": {
    "name": "ipython",
    "version": 3
   },
   "file_extension": ".py",
   "mimetype": "text/x-python",
   "name": "python",
   "nbconvert_exporter": "python",
   "pygments_lexer": "ipython3",
   "version": "3.6.6"
  }
 },
 "nbformat": 4,
 "nbformat_minor": 2
}
