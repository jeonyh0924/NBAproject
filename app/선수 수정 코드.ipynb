{
 "cells": [
  {
   "cell_type": "code",
   "execution_count": 3,
   "metadata": {},
   "outputs": [],
   "source": [
    "from selenium import webdriver\n",
    "import time\n",
    "from bs4 import BeautifulSoup\n",
    "import urllib\n",
    "import os\n",
    "import collections\n"
   ]
  },
  {
   "cell_type": "code",
   "execution_count": 4,
   "metadata": {},
   "outputs": [],
   "source": [
    "driver = webdriver.Chrome('/Users/mac/projects/ChromeWebDriver/chromedriver')\n",
    "driver.implicitly_wait(3)\n",
    "driver.get('https://www.nba.com/players')\n",
    "time.sleep(1)"
   ]
  },
  {
   "cell_type": "code",
   "execution_count": 8,
   "metadata": {},
   "outputs": [],
   "source": [
    "season_stat_tbody = driver.find_elements_by_xpath('//*[@id=\"block-league-content\"]/player-detail/player-snapshot-career/section/table/tbody')\n",
    "                "
   ]
  },
  {
   "cell_type": "code",
   "execution_count": 9,
   "metadata": {},
   "outputs": [
    {
     "data": {
      "text/plain": [
       "[<selenium.webdriver.remote.webelement.WebElement (session=\"d0cfd53dfb60920338d3651665e77583\", element=\"0.9608788393341878-4\")>,\n",
       " <selenium.webdriver.remote.webelement.WebElement (session=\"d0cfd53dfb60920338d3651665e77583\", element=\"0.9608788393341878-5\")>,\n",
       " <selenium.webdriver.remote.webelement.WebElement (session=\"d0cfd53dfb60920338d3651665e77583\", element=\"0.9608788393341878-6\")>,\n",
       " <selenium.webdriver.remote.webelement.WebElement (session=\"d0cfd53dfb60920338d3651665e77583\", element=\"0.9608788393341878-7\")>,\n",
       " <selenium.webdriver.remote.webelement.WebElement (session=\"d0cfd53dfb60920338d3651665e77583\", element=\"0.9608788393341878-8\")>,\n",
       " <selenium.webdriver.remote.webelement.WebElement (session=\"d0cfd53dfb60920338d3651665e77583\", element=\"0.9608788393341878-9\")>,\n",
       " <selenium.webdriver.remote.webelement.WebElement (session=\"d0cfd53dfb60920338d3651665e77583\", element=\"0.9608788393341878-10\")>,\n",
       " <selenium.webdriver.remote.webelement.WebElement (session=\"d0cfd53dfb60920338d3651665e77583\", element=\"0.9608788393341878-11\")>]"
      ]
     },
     "execution_count": 9,
     "metadata": {},
     "output_type": "execute_result"
    }
   ],
   "source": [
    "tr_data = season_stat_tbody[0].find_elements_by_tag_name('tr')\n",
    "tr_data[0].find_elements_by_tag_name('td')\n",
    "\n"
   ]
  },
  {
   "cell_type": "code",
   "execution_count": 10,
   "metadata": {},
   "outputs": [],
   "source": [
    "player_stats = [url.get_attribute(\"innerText\") for url in tr_data[0].find_elements_by_tag_name('td')]\n"
   ]
  },
  {
   "cell_type": "code",
   "execution_count": 11,
   "metadata": {},
   "outputs": [
    {
     "data": {
      "text/plain": [
       "['—', '—', '—', '-', '-', '-', '-', '-']"
      ]
     },
     "execution_count": 11,
     "metadata": {},
     "output_type": "execute_result"
    }
   ],
   "source": [
    "player_stats"
   ]
  },
  {
   "cell_type": "code",
   "execution_count": null,
   "metadata": {},
   "outputs": [],
   "source": [
    "\n",
    "driver.close()"
   ]
  }
 ],
 "metadata": {
  "kernelspec": {
   "display_name": "Python 3",
   "language": "python",
   "name": "python3"
  },
  "language_info": {
   "codemirror_mode": {
    "name": "ipython",
    "version": 3
   },
   "file_extension": ".py",
   "mimetype": "text/x-python",
   "name": "python",
   "nbconvert_exporter": "python",
   "pygments_lexer": "ipython3",
   "version": "3.6.6"
  }
 },
 "nbformat": 4,
 "nbformat_minor": 2
}
