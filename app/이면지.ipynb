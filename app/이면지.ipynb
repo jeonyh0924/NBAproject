{
 "cells": [
  {
   "cell_type": "code",
   "execution_count": 1,
   "metadata": {},
   "outputs": [],
   "source": [
    "\n",
    "class SList:\n",
    "    class Node:\n",
    "        def __init__(self, item, link):\n",
    "            self.item = item\n",
    "            self.link = link\n",
    "\n",
    "    def __init__(self):\n",
    "        self.head = None\n",
    "        self.size = 0\n",
    "\n",
    "    def size(self):\n",
    "        return self.size\n",
    "\n",
    "    def is_empty(self):\n",
    "        return self.size == 0\n",
    "\n",
    "    # 사이즈가 0이라면 True , 아니라면 False\n",
    "\n",
    "    def insert_front(self, item):\n",
    "        if self.is_empty():\n",
    "            self.head = self.Node(item, None)\n",
    "        else:\n",
    "            self.head = self.Node(item, self.head)\n",
    "        self.size += 1\n",
    "\n",
    "    def insert_after(self, item, p):\n",
    "        p.next = SList.Node(item, p.next)\n",
    "        self.size += 1\n",
    "\n",
    "    def delete_front(self):\n",
    "        if self.is_empty():\n",
    "            raise EmptyError('Under Flow')\n",
    "        else:\n",
    "            self.head = self.head.next\n",
    "            self.size -=1\n",
    "\n",
    "    def delete_after(self, p):\n",
    "        if self.is_empty():\n",
    "            raise EmptyError('Under flow')\n",
    "        t = p.next\n",
    "        p.next = t.next\n",
    "        self.size -= 1\n",
    "\n",
    "    def search(self, target):\n",
    "        p = self.head\n",
    "        for k in range(self.size):\n",
    "            if target == p.item: return k\n",
    "            p = p.next\n",
    "        return None\n",
    "\n",
    "    def print_list(self):\n",
    "        p = self.head\n",
    "        while p:\n",
    "            if p.next != None:\n",
    "                print(p.item, ' -> ', end=' ')\n",
    "            else:\n",
    "                print(p.item)\n",
    "            p = p.next\n"
   ]
  },
  {
   "cell_type": "code",
   "execution_count": 6,
   "metadata": {},
   "outputs": [
    {
     "name": "stdout",
     "output_type": "stream",
     "text": [
      "pear  ->  apple  ->  orange  ->  cherry\n",
      "cherry는 3 번째 \n",
      "kiwi는  None\n",
      "배 다음 노드 삭제 후 :\t\tpear  ->  orange  ->  cherry\n",
      "첫 노드 삭제 후 \t\torange  ->  cherry\n",
      "첫 노드 망고, 딸기 삽입 후, \tstrawberry  ->  mango  ->  orange  ->  cherry\n",
      "오렌지 다음 노드 삭제 후 :\tstrawberry  ->  mango  ->  orange\n"
     ]
    }
   ],
   "source": [
    "\n",
    "class SList:\n",
    "    class Node:\n",
    "        def __init__(self, item, link):\n",
    "            self.item = item\n",
    "            self.next = link\n",
    "\n",
    "    def __init__(self):\n",
    "        self.head = None\n",
    "        self.size = 0\n",
    "\n",
    "    def size(self):\n",
    "        return self.size\n",
    "\n",
    "    def is_empty(self):\n",
    "        return self.size == 0\n",
    "\n",
    "    # 사이즈가 0이라면 True , 아니라면 False\n",
    "\n",
    "    def insert_front(self, item):\n",
    "        if self.is_empty():\n",
    "            self.head = self.Node(item, None)\n",
    "        else:\n",
    "            self.head = self.Node(item, self.head)\n",
    "        self.size += 1\n",
    "\n",
    "    def insert_after(self, item, p):\n",
    "        p.next = SList.Node(item, p.next)\n",
    "        self.size += 1\n",
    "\n",
    "    def delete_front(self):\n",
    "        if self.is_empty():\n",
    "            raise EmptyError('Under Flow')\n",
    "        else:\n",
    "            self.head = self.head.next\n",
    "            self.size -=1\n",
    "\n",
    "    def delete_after(self, p):\n",
    "        if self.is_empty():\n",
    "            raise EmptyError('Under flow')\n",
    "        t = p.next\n",
    "        p.next = t.next\n",
    "        self.size -= 1\n",
    "\n",
    "    def search(self, target):\n",
    "        p = self.head\n",
    "        for k in range(self.size):\n",
    "            if target == p.item: return k\n",
    "            p = p.next\n",
    "        return None\n",
    "\n",
    "    def print_list(self):\n",
    "        p = self.head\n",
    "        while p:\n",
    "            if p.next != None:\n",
    "                print(p.item, ' -> ', end=' ')\n",
    "            else:\n",
    "                print(p.item)\n",
    "            p = p.next\n",
    "\n",
    "s = SList()\n",
    "\n",
    "s.insert_front('orange')\n",
    "s.insert_front('apple')\n",
    "s.insert_after('cherry', s.head.next)\n",
    "\n",
    "s.insert_front('pear')\n",
    "\n",
    "s.print_list()\n",
    "\n",
    "print('cherry는 %d 번째 ' % s.search('cherry'))\n",
    "\n",
    "print('kiwi는 ', s.search('kiwi'))\n",
    "print('배 다음 노드 삭제 후 :\\t\\t', end='')\n",
    "s.delete_after(s.head)\n",
    "\n",
    "s.print_list()\n",
    "\n",
    "print('첫 노드 삭제 후 \\t\\t', end='')\n",
    "\n",
    "s.delete_front()\n",
    "s.print_list()\n",
    "print('첫 노드 망고, 딸기 삽입 후, \\t', end='')\n",
    "\n",
    "s.insert_front('mango')\n",
    "s.insert_front('strawberry')\n",
    "\n",
    "s.print_list()\n",
    "s.delete_after(s.head.next.next)\n",
    "\n",
    "print('오렌지 다음 노드 삭제 후 :\\t', end='')\n",
    "s.print_list()\n"
   ]
  },
  {
   "cell_type": "code",
   "execution_count": 7,
   "metadata": {},
   "outputs": [],
   "source": [
    "class Customclass:\n",
    "    default_message = 'customclass'\n",
    "    def add_instance(self, a, b):\n",
    "        return a+b\n",
    "    \n",
    "    @classmethod\n",
    "    def add_class_method(cls, a, b):\n",
    "        return a+b\n",
    "    \n",
    "    @staticmethod\n",
    "    def add_static_method(a, b):\n",
    "        return a+b\n",
    "    \n",
    "    def print_class(self):\n",
    "        return self.default_message\n",
    "    \n",
    "class Theclass(Customclass):\n",
    "    defautl_message = 'the'\n"
   ]
  },
  {
   "cell_type": "code",
   "execution_count": 3,
   "metadata": {},
   "outputs": [
    {
     "data": {
      "text/plain": [
       "8"
      ]
     },
     "execution_count": 3,
     "metadata": {},
     "output_type": "execute_result"
    }
   ],
   "source": [
    "Customclass.add_instance(None, 3, 5)"
   ]
  },
  {
   "cell_type": "code",
   "execution_count": 5,
   "metadata": {},
   "outputs": [
    {
     "data": {
      "text/plain": [
       "8"
      ]
     },
     "execution_count": 5,
     "metadata": {},
     "output_type": "execute_result"
    }
   ],
   "source": [
    "Customclass.add_class_method(3, 5)"
   ]
  },
  {
   "cell_type": "code",
   "execution_count": 6,
   "metadata": {},
   "outputs": [
    {
     "data": {
      "text/plain": [
       "8"
      ]
     },
     "execution_count": 6,
     "metadata": {},
     "output_type": "execute_result"
    }
   ],
   "source": [
    "Customclass.add_static_method(3, 5)"
   ]
  },
  {
   "cell_type": "code",
   "execution_count": 1,
   "metadata": {},
   "outputs": [],
   "source": [
    "import turtle as t\n",
    "import random\n",
    "t.speed(0)\n",
    "t.shape(\"turtle\")\n",
    "t.penup()                   # 선 그리지 않도록 펜 들기\n",
    "t.goto(-500, 300)           # 좌표 이동\n",
    "t.pendown()                 # 선 그리도록 펜 내리\n",
    "random1 = 0 \n",
    "xpath = -500 \n",
    "ypath = 300\n",
    " \n",
    "\n",
    "def 사각형():                  # 사각형을 그리는 함수\n",
    "    for i in range(4):\n",
    "        t.forward(50)\n",
    "        t.right(90)\n",
    "\n",
    "def 패턴():                   # 패턴을 그리는 함수\n",
    "    t.begin_fill()\n",
    "    사각형()\n",
    "    t.end_fill()\n",
    "    t.forward(50)\n",
    "    사각형()\n",
    "    t.forward(50)\n",
    "\n",
    "\n",
    "for i in range(10):\n",
    "    for j in range(10):\n",
    "        패턴()\n",
    "    random1 = random.randint(-30,30)\n",
    "    xpath -= random1\n",
    "    ypath -= 50\n",
    "    t.penup()\n",
    "    t.goto(xpath, ypath)\n",
    "    t.pendown()\n",
    "\n",
    " "
   ]
  },
  {
   "cell_type": "code",
   "execution_count": null,
   "metadata": {},
   "outputs": [],
   "source": []
  }
 ],
 "metadata": {
  "kernelspec": {
   "display_name": "Django Shell-Plus",
   "language": "python",
   "name": "django_extensions"
  },
  "language_info": {
   "codemirror_mode": {
    "name": "ipython",
    "version": 3
   },
   "file_extension": ".py",
   "mimetype": "text/x-python",
   "name": "python",
   "nbconvert_exporter": "python",
   "pygments_lexer": "ipython3",
   "version": "3.6.6"
  }
 },
 "nbformat": 4,
 "nbformat_minor": 2
}
